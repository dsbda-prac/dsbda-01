{
 "cells": [
  {
   "cell_type": "markdown",
   "id": "3b2ee6e3-3dad-45a5-a619-e52c4bcec304",
   "metadata": {},
   "source": [
    "EXP 7"
   ]
  },
  {
   "cell_type": "code",
   "execution_count": 2,
   "id": "abfa1aeb-879f-4cf4-9177-f6cba4675340",
   "metadata": {},
   "outputs": [],
   "source": [
    "import nltk"
   ]
  },
  {
   "cell_type": "code",
   "execution_count": 4,
   "id": "107eb222-ac22-4580-877f-6003f52c0f43",
   "metadata": {},
   "outputs": [
    {
     "name": "stderr",
     "output_type": "stream",
     "text": [
      "[nltk_data] Downloading package punkt to\n",
      "[nltk_data]     C:\\Users\\rohit\\AppData\\Roaming\\nltk_data...\n",
      "[nltk_data]   Package punkt is already up-to-date!\n",
      "[nltk_data] Downloading package stopwords to\n",
      "[nltk_data]     C:\\Users\\rohit\\AppData\\Roaming\\nltk_data...\n",
      "[nltk_data]   Package stopwords is already up-to-date!\n",
      "[nltk_data] Downloading package wordnet to\n",
      "[nltk_data]     C:\\Users\\rohit\\AppData\\Roaming\\nltk_data...\n",
      "[nltk_data]   Package wordnet is already up-to-date!\n",
      "[nltk_data] Downloading package averaged_perceptron_tagger to\n",
      "[nltk_data]     C:\\Users\\rohit\\AppData\\Roaming\\nltk_data...\n",
      "[nltk_data]   Package averaged_perceptron_tagger is already up-to-\n",
      "[nltk_data]       date!\n"
     ]
    },
    {
     "data": {
      "text/plain": [
       "True"
      ]
     },
     "execution_count": 4,
     "metadata": {},
     "output_type": "execute_result"
    }
   ],
   "source": [
    "nltk.download('punkt')\n",
    "nltk.download('stopwords')\n",
    "nltk.download('wordnet')\n",
    "nltk.download('averaged_perceptron_tagger')"
   ]
  },
  {
   "cell_type": "code",
   "execution_count": 6,
   "id": "d5e84092-09d6-4304-8130-6f2526856520",
   "metadata": {},
   "outputs": [],
   "source": [
    "text= \"Tokenization is the first step in text analytics. The process of breaking down a text paragraph into smaller chunks such as words or sentences is called Tokenization.\""
   ]
  },
  {
   "cell_type": "markdown",
   "id": "896f2734-6183-410d-809f-ba9541f90ee9",
   "metadata": {},
   "source": [
    "Tokenization"
   ]
  },
  {
   "cell_type": "code",
   "execution_count": 8,
   "id": "be987ef1-c02e-435d-88e2-0438a7081471",
   "metadata": {},
   "outputs": [],
   "source": [
    "from nltk.tokenize import word_tokenize, sent_tokenize"
   ]
  },
  {
   "cell_type": "code",
   "execution_count": 11,
   "id": "273d8f71-35e9-40ef-b648-eefbad256700",
   "metadata": {},
   "outputs": [],
   "source": [
    "tokenized_text= sent_tokenize(text)"
   ]
  },
  {
   "cell_type": "code",
   "execution_count": 13,
   "id": "71cb203a-4355-4312-8b05-909f67fb9529",
   "metadata": {},
   "outputs": [
    {
     "name": "stdout",
     "output_type": "stream",
     "text": [
      "['Tokenization is the first step in text analytics.', 'The process of breaking down a text paragraph into smaller chunks such as words or sentences is called Tokenization.']\n"
     ]
    }
   ],
   "source": [
    "print(tokenized_text)"
   ]
  },
  {
   "cell_type": "code",
   "execution_count": 15,
   "id": "381ceeb9-bd3b-4590-a613-c354cafdc701",
   "metadata": {},
   "outputs": [
    {
     "name": "stdout",
     "output_type": "stream",
     "text": [
      "['Tokenization', 'is', 'the', 'first', 'step', 'in', 'text', 'analytics', '.', 'The', 'process', 'of', 'breaking', 'down', 'a', 'text', 'paragraph', 'into', 'smaller', 'chunks', 'such', 'as', 'words', 'or', 'sentences', 'is', 'called', 'Tokenization', '.']\n"
     ]
    }
   ],
   "source": [
    "tokenized_word=word_tokenize(text)\n",
    "print(tokenized_word)"
   ]
  },
  {
   "cell_type": "markdown",
   "id": "243be976-aa4a-4a40-9b27-a05d46fd7e25",
   "metadata": {},
   "source": [
    "Stop Words Removal & Remove Punctuation"
   ]
  },
  {
   "cell_type": "code",
   "execution_count": 18,
   "id": "8da4328e-67d3-4bbe-8cbd-34a2acf81135",
   "metadata": {},
   "outputs": [],
   "source": [
    "from nltk.corpus import stopwords\n",
    "import re"
   ]
  },
  {
   "cell_type": "code",
   "execution_count": 20,
   "id": "5d0c5b66-f62b-4a94-afc0-eba4bd256501",
   "metadata": {},
   "outputs": [
    {
     "name": "stdout",
     "output_type": "stream",
     "text": [
      "Stop Words :  {'there', 'couldn', 'hers', 'or', 't', 'can', \"won't\", 'she', \"you're\", 'll', \"we'd\", 'below', 'before', 'them', 'yourself', 'most', 'theirs', \"wasn't\", 'own', 'any', 'for', 'the', 'will', 'doesn', \"aren't\", 'is', \"that'll\", 'hasn', 'so', \"wouldn't\", \"you'll\", \"shouldn't\", 'had', 'does', 'on', \"he'll\", \"it'll\", 'being', 'such', 'd', 'whom', 'their', 'having', 'shan', 'then', \"you'd\", 'under', 'he', 've', 'me', \"didn't\", 'mustn', 'his', \"i've\", 'doing', \"shan't\", 'this', 'into', 'through', \"we're\", 'that', 'down', 'all', 'your', 'they', \"mightn't\", 'where', 're', 'more', \"she'd\", 'wouldn', 'mightn', 'my', 'didn', \"it'd\", 'do', 'other', 'some', 'you', 'be', 'same', 'why', 'of', 'about', 'once', \"we've\", \"they'll\", 'off', \"she's\", 'her', 'those', 'what', 'who', 'again', \"he's\", 'ain', 'if', \"i'm\", 'these', \"she'll\", 'o', 's', 'yourselves', \"hasn't\", 'too', 'won', 'wasn', 'we', \"don't\", \"haven't\", 'an', 'ourselves', \"we'll\", 'between', 'isn', 'don', 'which', 'above', 'when', 'to', 'each', \"should've\", 'by', 'was', 'while', \"hadn't\", 'yours', 'did', 'it', \"they're\", 'very', 'from', 'over', 'few', 'as', 'him', \"mustn't\", \"he'd\", \"you've\", 'only', 'hadn', 'has', \"needn't\", 'our', 'during', 'out', 'shouldn', \"i'll\", \"i'd\", \"doesn't\", 'should', 'no', 'a', 'because', 'itself', 'm', 'were', 'needn', 'how', 'myself', 'themselves', \"weren't\", 'in', 'ma', 'with', \"isn't\", \"it's\", 'been', 'ours', \"they'd\", 'have', 'after', 'himself', 'am', 'further', \"they've\", 'both', 'now', 'nor', 'and', 'up', 'weren', 'are', 'i', 'aren', 'but', 'just', 'not', 'at', 'here', 'herself', 'than', 'its', 'y', 'haven', 'against', \"couldn't\", 'until'}\n"
     ]
    }
   ],
   "source": [
    "stop_words=set(stopwords.words(\"english\"))\n",
    "print(\"Stop Words : \",stop_words)"
   ]
  },
  {
   "cell_type": "code",
   "execution_count": 22,
   "id": "a32a0b9f-59cf-42e1-88fe-d994da352547",
   "metadata": {},
   "outputs": [],
   "source": [
    "text= \"How to remove stop words with NLTK library in Python?\"\n",
    "text= re.sub('[^a-zA-Z]', ' ',text)\n",
    "tokens = word_tokenize(text.lower())\n",
    "filtered_text=[]\n",
    "for w in tokens:\n",
    "    if w not in stop_words:\n",
    "        filtered_text.append(w)"
   ]
  },
  {
   "cell_type": "code",
   "execution_count": 24,
   "id": "3ba82fee-24f2-4221-8ee5-14cddf5a511d",
   "metadata": {},
   "outputs": [
    {
     "name": "stdout",
     "output_type": "stream",
     "text": [
      "Tokenized Sentence: ['how', 'to', 'remove', 'stop', 'words', 'with', 'nltk', 'library', 'in', 'python']\n"
     ]
    }
   ],
   "source": [
    "print(\"Tokenized Sentence:\",tokens)"
   ]
  },
  {
   "cell_type": "code",
   "execution_count": 26,
   "id": "528e6d50-649a-464d-830a-3ee76d4d2e63",
   "metadata": {},
   "outputs": [
    {
     "name": "stdout",
     "output_type": "stream",
     "text": [
      "Filterd Sentence: ['remove', 'stop', 'words', 'nltk', 'library', 'python']\n"
     ]
    }
   ],
   "source": [
    "print(\"Filterd Sentence:\",filtered_text)"
   ]
  },
  {
   "cell_type": "markdown",
   "id": "b8997064-5d4b-4885-9a37-01e1e61666a4",
   "metadata": {},
   "source": [
    "Stemming"
   ]
  },
  {
   "cell_type": "code",
   "execution_count": 29,
   "id": "e037d7c2-e501-493a-9e30-33519e209ae4",
   "metadata": {},
   "outputs": [],
   "source": [
    "from nltk.stem import PorterStemmer"
   ]
  },
  {
   "cell_type": "code",
   "execution_count": 32,
   "id": "62d97d30-ecc9-4e90-a2f7-073e14fd6169",
   "metadata": {},
   "outputs": [
    {
     "name": "stdout",
     "output_type": "stream",
     "text": [
      "cri\n",
      "saw\n",
      "call\n",
      "run\n"
     ]
    }
   ],
   "source": [
    "e_words= [\"cried\", \"saw\", \"called\", \"running\"]\n",
    "ps =PorterStemmer()\n",
    "for w in e_words:\n",
    "    rootWord=ps.stem(w)\n",
    "    print(rootWord)"
   ]
  },
  {
   "cell_type": "markdown",
   "id": "3db8e128-07ac-46ab-84e4-a95400f23e9a",
   "metadata": {},
   "source": [
    "Lemmatization"
   ]
  },
  {
   "cell_type": "code",
   "execution_count": 35,
   "id": "c0fd94a9-394a-4e43-8076-fbc00f5a81dd",
   "metadata": {},
   "outputs": [
    {
     "name": "stdout",
     "output_type": "stream",
     "text": [
      "Lemma for studies is study\n",
      "Lemma for studying is studying\n",
      "Lemma for cries is cry\n",
      "Lemma for cry is cry\n"
     ]
    }
   ],
   "source": [
    "from nltk.stem import WordNetLemmatizer\n",
    "wordnet_lemmatizer = WordNetLemmatizer()\n",
    "text = \"studies studying cries cry\"\n",
    "tokenization = nltk.word_tokenize(text)\n",
    "for w in tokenization:\n",
    "    print(\"Lemma for {} is {}\".format(w,wordnet_lemmatizer.lemmatize(w)))"
   ]
  },
  {
   "cell_type": "markdown",
   "id": "2289d2d8-92a1-447d-8579-279b3e6f2be9",
   "metadata": {},
   "source": [
    "POS Tagging"
   ]
  },
  {
   "cell_type": "code",
   "execution_count": 38,
   "id": "8a98c722-f849-4739-8d1e-c34bcca0a49a",
   "metadata": {},
   "outputs": [
    {
     "name": "stdout",
     "output_type": "stream",
     "text": [
      "[('The', 'DT')]\n",
      "[('pink', 'NN')]\n",
      "[('sweater', 'NN')]\n",
      "[('fits', 'NNS')]\n",
      "[('her', 'PRP$')]\n",
      "[('perfectly', 'RB')]\n"
     ]
    }
   ],
   "source": [
    "import nltk\n",
    "from nltk.tokenize import word_tokenize\n",
    "data=\"The pink sweater fits her perfectly\"\n",
    "words=word_tokenize(data)\n",
    "for word in words:\n",
    "    print(nltk.pos_tag([word]))"
   ]
  },
  {
   "cell_type": "markdown",
   "id": "89570288-8be6-49a9-ae92-580847c4c3d6",
   "metadata": {},
   "source": [
    "Creating representation of document by calculating TF & IDF"
   ]
  },
  {
   "cell_type": "code",
   "execution_count": 41,
   "id": "598b174f-7e3b-4cfd-9f2e-4fd612de70f0",
   "metadata": {},
   "outputs": [],
   "source": [
    "import pandas as pd\n",
    "from sklearn.feature_extraction.text import TfidfVectorizer"
   ]
  },
  {
   "cell_type": "code",
   "execution_count": 43,
   "id": "a0fe6c56-f280-4b92-965c-04dfc8fc96a3",
   "metadata": {},
   "outputs": [],
   "source": [
    "documentA = 'Jupiter is the largest Planet'\n",
    "documentB = 'Mars is the fourth planet from the Sun'"
   ]
  },
  {
   "cell_type": "code",
   "execution_count": 45,
   "id": "992e05a8-cf51-468d-821d-1dab0ecfaa61",
   "metadata": {},
   "outputs": [],
   "source": [
    "\n",
    "bagOfWordsA = documentA.split(' ')\n",
    "bagOfWordsB = documentB.split(' ')"
   ]
  },
  {
   "cell_type": "code",
   "execution_count": 47,
   "id": "69633afd-7147-41a9-bbcb-45bb30d230f1",
   "metadata": {},
   "outputs": [],
   "source": [
    "uniqueWords = set(bagOfWordsA).union(set(bagOfWordsB))"
   ]
  },
  {
   "cell_type": "code",
   "execution_count": 49,
   "id": "533a555b-d5e4-4d16-b37a-09d19e9fc575",
   "metadata": {},
   "outputs": [],
   "source": [
    "numOfWordsA = dict.fromkeys(uniqueWords, 0)\n",
    "for word in bagOfWordsA:\n",
    "    numOfWordsA[word] += 1\n",
    "    numOfWordsB = dict.fromkeys(uniqueWords, 0)\n",
    "for word in bagOfWordsB:\n",
    "    numOfWordsB[word] += 1"
   ]
  },
  {
   "cell_type": "code",
   "execution_count": 51,
   "id": "f1437362-9aad-4ff2-bc08-456ff9045330",
   "metadata": {},
   "outputs": [],
   "source": [
    "def computeTF(wordDict, bagOfWords):\n",
    "    tfDict = {}\n",
    "    bagOfWordsCount = len(bagOfWords)\n",
    "    for word, count in wordDict.items():\n",
    "        tfDict[word] = count / float(bagOfWordsCount)\n",
    "    return tfDict\n",
    "tfA = computeTF(numOfWordsA, bagOfWordsA)\n",
    "tfB = computeTF(numOfWordsB, bagOfWordsB)\n"
   ]
  },
  {
   "cell_type": "code",
   "execution_count": 53,
   "id": "06e54b78-a972-4471-92f8-0ef5699e72a2",
   "metadata": {},
   "outputs": [
    {
     "data": {
      "text/plain": [
       "{'fourth': 0.6931471805599453,\n",
       " 'Mars': 0.6931471805599453,\n",
       " 'the': 0.0,\n",
       " 'Planet': 0.6931471805599453,\n",
       " 'Sun': 0.6931471805599453,\n",
       " 'is': 0.0,\n",
       " 'Jupiter': 0.6931471805599453,\n",
       " 'from': 0.6931471805599453,\n",
       " 'largest': 0.6931471805599453,\n",
       " 'planet': 0.6931471805599453}"
      ]
     },
     "execution_count": 53,
     "metadata": {},
     "output_type": "execute_result"
    }
   ],
   "source": [
    "import math\n",
    "def computeIDF(documents):\n",
    "    N = len(documents)\n",
    "    idfDict = dict.fromkeys(documents[0].keys(), 0)\n",
    "    for document in documents:\n",
    "        for word, val in document.items():\n",
    "            if val > 0:\n",
    "                idfDict[word] += 1\n",
    "    for word, val in idfDict.items():\n",
    "        idfDict[word] = math.log(N / float(val))\n",
    "    return idfDict\n",
    "\n",
    "idfs = computeIDF([numOfWordsA, numOfWordsB])\n",
    "idfs"
   ]
  },
  {
   "cell_type": "code",
   "execution_count": 55,
   "id": "fa9ec323-9071-4b07-afa2-a053b6f6d305",
   "metadata": {},
   "outputs": [
    {
     "data": {
      "text/html": [
       "<div>\n",
       "<style scoped>\n",
       "    .dataframe tbody tr th:only-of-type {\n",
       "        vertical-align: middle;\n",
       "    }\n",
       "\n",
       "    .dataframe tbody tr th {\n",
       "        vertical-align: top;\n",
       "    }\n",
       "\n",
       "    .dataframe thead th {\n",
       "        text-align: right;\n",
       "    }\n",
       "</style>\n",
       "<table border=\"1\" class=\"dataframe\">\n",
       "  <thead>\n",
       "    <tr style=\"text-align: right;\">\n",
       "      <th></th>\n",
       "      <th>fourth</th>\n",
       "      <th>Mars</th>\n",
       "      <th>the</th>\n",
       "      <th>Planet</th>\n",
       "      <th>Sun</th>\n",
       "      <th>is</th>\n",
       "      <th>Jupiter</th>\n",
       "      <th>from</th>\n",
       "      <th>largest</th>\n",
       "      <th>planet</th>\n",
       "    </tr>\n",
       "  </thead>\n",
       "  <tbody>\n",
       "    <tr>\n",
       "      <th>0</th>\n",
       "      <td>0.000000</td>\n",
       "      <td>0.000000</td>\n",
       "      <td>0.0</td>\n",
       "      <td>0.138629</td>\n",
       "      <td>0.000000</td>\n",
       "      <td>0.0</td>\n",
       "      <td>0.138629</td>\n",
       "      <td>0.000000</td>\n",
       "      <td>0.138629</td>\n",
       "      <td>0.000000</td>\n",
       "    </tr>\n",
       "    <tr>\n",
       "      <th>1</th>\n",
       "      <td>0.086643</td>\n",
       "      <td>0.086643</td>\n",
       "      <td>0.0</td>\n",
       "      <td>0.000000</td>\n",
       "      <td>0.086643</td>\n",
       "      <td>0.0</td>\n",
       "      <td>0.000000</td>\n",
       "      <td>0.086643</td>\n",
       "      <td>0.000000</td>\n",
       "      <td>0.086643</td>\n",
       "    </tr>\n",
       "  </tbody>\n",
       "</table>\n",
       "</div>"
      ],
      "text/plain": [
       "     fourth      Mars  the    Planet       Sun   is   Jupiter      from  \\\n",
       "0  0.000000  0.000000  0.0  0.138629  0.000000  0.0  0.138629  0.000000   \n",
       "1  0.086643  0.086643  0.0  0.000000  0.086643  0.0  0.000000  0.086643   \n",
       "\n",
       "    largest    planet  \n",
       "0  0.138629  0.000000  \n",
       "1  0.000000  0.086643  "
      ]
     },
     "execution_count": 55,
     "metadata": {},
     "output_type": "execute_result"
    }
   ],
   "source": [
    "def computeTFIDF(tfBagOfWords, idfs):\n",
    "    tfidf = {}\n",
    "    for word, val in tfBagOfWords.items():\n",
    "        tfidf[word] = val * idfs[word]\n",
    "    return tfidf\n",
    "\n",
    "tfidfA = computeTFIDF(tfA, idfs)\n",
    "tfidfB = computeTFIDF(tfB, idfs)\n",
    "df = pd.DataFrame([tfidfA, tfidfB])\n",
    "df\n"
   ]
  },
  {
   "cell_type": "markdown",
   "id": "843da5fd-dfbb-4714-a0ff-baedcc04c882",
   "metadata": {},
   "source": [
    "End...................."
   ]
  },
  {
   "cell_type": "code",
   "execution_count": null,
   "id": "db788b4a-eaec-4a47-bbff-4c2a849159a9",
   "metadata": {},
   "outputs": [],
   "source": []
  }
 ],
 "metadata": {
  "kernelspec": {
   "display_name": "Python [conda env:base] *",
   "language": "python",
   "name": "conda-base-py"
  },
  "language_info": {
   "codemirror_mode": {
    "name": "ipython",
    "version": 3
   },
   "file_extension": ".py",
   "mimetype": "text/x-python",
   "name": "python",
   "nbconvert_exporter": "python",
   "pygments_lexer": "ipython3",
   "version": "3.12.7"
  }
 },
 "nbformat": 4,
 "nbformat_minor": 5
}
